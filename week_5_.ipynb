{
  "nbformat": 4,
  "nbformat_minor": 0,
  "metadata": {
    "colab": {
      "provenance": []
    },
    "kernelspec": {
      "name": "python3",
      "display_name": "Python 3"
    },
    "language_info": {
      "name": "python"
    }
  },
  "cells": [
    {
      "cell_type": "code",
      "execution_count": 10,
      "metadata": {
        "colab": {
          "base_uri": "https://localhost:8080/",
          "height": 17
        },
        "id": "lVc9UzN8VJ46",
        "outputId": "28db71f0-e37f-4b9e-9d9d-e10fff10ce28"
      },
      "outputs": [
        {
          "output_type": "display_data",
          "data": {
            "text/plain": [
              "<IPython.core.display.Javascript object>"
            ],
            "application/javascript": [
              "\n",
              "    async function download(id, filename, size) {\n",
              "      if (!google.colab.kernel.accessAllowed) {\n",
              "        return;\n",
              "      }\n",
              "      const div = document.createElement('div');\n",
              "      const label = document.createElement('label');\n",
              "      label.textContent = `Downloading \"${filename}\": `;\n",
              "      div.appendChild(label);\n",
              "      const progress = document.createElement('progress');\n",
              "      progress.max = size;\n",
              "      div.appendChild(progress);\n",
              "      document.body.appendChild(div);\n",
              "\n",
              "      const buffers = [];\n",
              "      let downloaded = 0;\n",
              "\n",
              "      const channel = await google.colab.kernel.comms.open(id);\n",
              "      // Send a message to notify the kernel that we're ready.\n",
              "      channel.send({})\n",
              "\n",
              "      for await (const message of channel.messages) {\n",
              "        // Send a message to notify the kernel that we're ready.\n",
              "        channel.send({})\n",
              "        if (message.buffers) {\n",
              "          for (const buffer of message.buffers) {\n",
              "            buffers.push(buffer);\n",
              "            downloaded += buffer.byteLength;\n",
              "            progress.value = downloaded;\n",
              "          }\n",
              "        }\n",
              "      }\n",
              "      const blob = new Blob(buffers, {type: 'application/binary'});\n",
              "      const a = document.createElement('a');\n",
              "      a.href = window.URL.createObjectURL(blob);\n",
              "      a.download = filename;\n",
              "      div.appendChild(a);\n",
              "      a.click();\n",
              "      div.remove();\n",
              "    }\n",
              "  "
            ]
          },
          "metadata": {}
        },
        {
          "output_type": "display_data",
          "data": {
            "text/plain": [
              "<IPython.core.display.Javascript object>"
            ],
            "application/javascript": [
              "download(\"download_05133be0-50ea-4812-b025-7d7bc76b9aeb\", \"parking_stream_model2.csv\", 749856)"
            ]
          },
          "metadata": {}
        },
        {
          "output_type": "display_data",
          "data": {
            "text/plain": [
              "<IPython.core.display.Javascript object>"
            ],
            "application/javascript": [
              "\n",
              "    async function download(id, filename, size) {\n",
              "      if (!google.colab.kernel.accessAllowed) {\n",
              "        return;\n",
              "      }\n",
              "      const div = document.createElement('div');\n",
              "      const label = document.createElement('label');\n",
              "      label.textContent = `Downloading \"${filename}\": `;\n",
              "      div.appendChild(label);\n",
              "      const progress = document.createElement('progress');\n",
              "      progress.max = size;\n",
              "      div.appendChild(progress);\n",
              "      document.body.appendChild(div);\n",
              "\n",
              "      const buffers = [];\n",
              "      let downloaded = 0;\n",
              "\n",
              "      const channel = await google.colab.kernel.comms.open(id);\n",
              "      // Send a message to notify the kernel that we're ready.\n",
              "      channel.send({})\n",
              "\n",
              "      for await (const message of channel.messages) {\n",
              "        // Send a message to notify the kernel that we're ready.\n",
              "        channel.send({})\n",
              "        if (message.buffers) {\n",
              "          for (const buffer of message.buffers) {\n",
              "            buffers.push(buffer);\n",
              "            downloaded += buffer.byteLength;\n",
              "            progress.value = downloaded;\n",
              "          }\n",
              "        }\n",
              "      }\n",
              "      const blob = new Blob(buffers, {type: 'application/binary'});\n",
              "      const a = document.createElement('a');\n",
              "      a.href = window.URL.createObjectURL(blob);\n",
              "      a.download = filename;\n",
              "      div.appendChild(a);\n",
              "      a.click();\n",
              "      div.remove();\n",
              "    }\n",
              "  "
            ]
          },
          "metadata": {}
        },
        {
          "output_type": "display_data",
          "data": {
            "text/plain": [
              "<IPython.core.display.Javascript object>"
            ],
            "application/javascript": [
              "download(\"download_752d541c-6820-45c3-9a50-54e4399c7ac3\", \"parking_stream_model2.csv\", 749856)"
            ]
          },
          "metadata": {}
        },
        {
          "output_type": "display_data",
          "data": {
            "text/plain": [
              "<IPython.core.display.Javascript object>"
            ],
            "application/javascript": [
              "\n",
              "    async function download(id, filename, size) {\n",
              "      if (!google.colab.kernel.accessAllowed) {\n",
              "        return;\n",
              "      }\n",
              "      const div = document.createElement('div');\n",
              "      const label = document.createElement('label');\n",
              "      label.textContent = `Downloading \"${filename}\": `;\n",
              "      div.appendChild(label);\n",
              "      const progress = document.createElement('progress');\n",
              "      progress.max = size;\n",
              "      div.appendChild(progress);\n",
              "      document.body.appendChild(div);\n",
              "\n",
              "      const buffers = [];\n",
              "      let downloaded = 0;\n",
              "\n",
              "      const channel = await google.colab.kernel.comms.open(id);\n",
              "      // Send a message to notify the kernel that we're ready.\n",
              "      channel.send({})\n",
              "\n",
              "      for await (const message of channel.messages) {\n",
              "        // Send a message to notify the kernel that we're ready.\n",
              "        channel.send({})\n",
              "        if (message.buffers) {\n",
              "          for (const buffer of message.buffers) {\n",
              "            buffers.push(buffer);\n",
              "            downloaded += buffer.byteLength;\n",
              "            progress.value = downloaded;\n",
              "          }\n",
              "        }\n",
              "      }\n",
              "      const blob = new Blob(buffers, {type: 'application/binary'});\n",
              "      const a = document.createElement('a');\n",
              "      a.href = window.URL.createObjectURL(blob);\n",
              "      a.download = filename;\n",
              "      div.appendChild(a);\n",
              "      a.click();\n",
              "      div.remove();\n",
              "    }\n",
              "  "
            ]
          },
          "metadata": {}
        },
        {
          "output_type": "display_data",
          "data": {
            "text/plain": [
              "<IPython.core.display.Javascript object>"
            ],
            "application/javascript": [
              "download(\"download_4047e5ff-7463-4e2f-824c-91d8385669fd\", \"parking_stream_model2.csv\", 749856)"
            ]
          },
          "metadata": {}
        },
        {
          "output_type": "display_data",
          "data": {
            "text/plain": [
              "<IPython.core.display.Javascript object>"
            ],
            "application/javascript": [
              "\n",
              "    async function download(id, filename, size) {\n",
              "      if (!google.colab.kernel.accessAllowed) {\n",
              "        return;\n",
              "      }\n",
              "      const div = document.createElement('div');\n",
              "      const label = document.createElement('label');\n",
              "      label.textContent = `Downloading \"${filename}\": `;\n",
              "      div.appendChild(label);\n",
              "      const progress = document.createElement('progress');\n",
              "      progress.max = size;\n",
              "      div.appendChild(progress);\n",
              "      document.body.appendChild(div);\n",
              "\n",
              "      const buffers = [];\n",
              "      let downloaded = 0;\n",
              "\n",
              "      const channel = await google.colab.kernel.comms.open(id);\n",
              "      // Send a message to notify the kernel that we're ready.\n",
              "      channel.send({})\n",
              "\n",
              "      for await (const message of channel.messages) {\n",
              "        // Send a message to notify the kernel that we're ready.\n",
              "        channel.send({})\n",
              "        if (message.buffers) {\n",
              "          for (const buffer of message.buffers) {\n",
              "            buffers.push(buffer);\n",
              "            downloaded += buffer.byteLength;\n",
              "            progress.value = downloaded;\n",
              "          }\n",
              "        }\n",
              "      }\n",
              "      const blob = new Blob(buffers, {type: 'application/binary'});\n",
              "      const a = document.createElement('a');\n",
              "      a.href = window.URL.createObjectURL(blob);\n",
              "      a.download = filename;\n",
              "      div.appendChild(a);\n",
              "      a.click();\n",
              "      div.remove();\n",
              "    }\n",
              "  "
            ]
          },
          "metadata": {}
        },
        {
          "output_type": "display_data",
          "data": {
            "text/plain": [
              "<IPython.core.display.Javascript object>"
            ],
            "application/javascript": [
              "download(\"download_22f56041-bf17-4610-9203-295ab2baf510\", \"parking_stream_model2.csv\", 749856)"
            ]
          },
          "metadata": {}
        },
        {
          "output_type": "display_data",
          "data": {
            "text/plain": [
              "<IPython.core.display.Javascript object>"
            ],
            "application/javascript": [
              "\n",
              "    async function download(id, filename, size) {\n",
              "      if (!google.colab.kernel.accessAllowed) {\n",
              "        return;\n",
              "      }\n",
              "      const div = document.createElement('div');\n",
              "      const label = document.createElement('label');\n",
              "      label.textContent = `Downloading \"${filename}\": `;\n",
              "      div.appendChild(label);\n",
              "      const progress = document.createElement('progress');\n",
              "      progress.max = size;\n",
              "      div.appendChild(progress);\n",
              "      document.body.appendChild(div);\n",
              "\n",
              "      const buffers = [];\n",
              "      let downloaded = 0;\n",
              "\n",
              "      const channel = await google.colab.kernel.comms.open(id);\n",
              "      // Send a message to notify the kernel that we're ready.\n",
              "      channel.send({})\n",
              "\n",
              "      for await (const message of channel.messages) {\n",
              "        // Send a message to notify the kernel that we're ready.\n",
              "        channel.send({})\n",
              "        if (message.buffers) {\n",
              "          for (const buffer of message.buffers) {\n",
              "            buffers.push(buffer);\n",
              "            downloaded += buffer.byteLength;\n",
              "            progress.value = downloaded;\n",
              "          }\n",
              "        }\n",
              "      }\n",
              "      const blob = new Blob(buffers, {type: 'application/binary'});\n",
              "      const a = document.createElement('a');\n",
              "      a.href = window.URL.createObjectURL(blob);\n",
              "      a.download = filename;\n",
              "      div.appendChild(a);\n",
              "      a.click();\n",
              "      div.remove();\n",
              "    }\n",
              "  "
            ]
          },
          "metadata": {}
        },
        {
          "output_type": "display_data",
          "data": {
            "text/plain": [
              "<IPython.core.display.Javascript object>"
            ],
            "application/javascript": [
              "download(\"download_722d98b0-4862-4851-8ba1-3c066927d306\", \"parking_stream_model2.csv\", 749856)"
            ]
          },
          "metadata": {}
        }
      ],
      "source": [
        "import pandas as pd\n",
        "from google.colab import files  # 👈 Import this to enable downloads\n",
        "\n",
        "# Load dataset (update path if needed)\n",
        "df = pd.read_csv(\"dataset.csv\")\n",
        "\n",
        "# Combine date and time columns\n",
        "df['Timestamp'] = pd.to_datetime(df['LastUpdatedDate'] + ' ' + df['LastUpdatedTime'], format=\"%d-%m-%Y %H:%M:%S\")\n",
        "\n",
        "# Feature mappings\n",
        "traffic_map = {\"low\": 1, \"medium\": 2, \"high\": 3}\n",
        "vehicle_weight_map = {\"bike\": 0.5, \"car\": 1.0, \"truck\": 1.5}\n",
        "\n",
        "df['TrafficScore'] = df['TrafficConditionNearby'].map(traffic_map).fillna(2)\n",
        "df['VehicleWeight'] = df['VehicleType'].map(vehicle_weight_map).fillna(1.0)\n",
        "\n",
        "# Prepare new DataFrame with required features\n",
        "df_model2 = df[['Timestamp', 'Occupancy', 'Capacity', 'QueueLength', 'TrafficScore', 'IsSpecialDay', 'VehicleWeight']]\n",
        "df_model2 = df_model2.rename(columns={\n",
        "    'TrafficScore': 'TrafficConditionNearby',\n",
        "    'VehicleWeight': 'VehicleType'\n",
        "})\n",
        "\n",
        "# Save it as CSV\n",
        "output_filename = \"parking_stream_model2.csv\"\n",
        "df_model2.to_csv(output_filename, index=False)\n",
        "\n",
        "# Trigger download in Colab\n",
        "files.download(output_filename)\n",
        "\n",
        "import pandas as pd\n",
        "from google.colab import files  # 👈 Import this to enable downloads\n",
        "\n",
        "# Load dataset (update path if needed)\n",
        "df = pd.read_csv(\"dataset.csv\")\n",
        "\n",
        "# Combine date and time columns\n",
        "df['Timestamp'] = pd.to_datetime(df['LastUpdatedDate'] + ' ' + df['LastUpdatedTime'], format=\"%d-%m-%Y %H:%M:%S\")\n",
        "\n",
        "# Feature mappings\n",
        "traffic_map = {\"low\": 1, \"medium\": 2, \"high\": 3}\n",
        "vehicle_weight_map = {\"bike\": 0.5, \"car\": 1.0, \"truck\": 1.5}\n",
        "\n",
        "df['TrafficScore'] = df['TrafficConditionNearby'].map(traffic_map).fillna(2)\n",
        "df['VehicleWeight'] = df['VehicleType'].map(vehicle_weight_map).fillna(1.0)\n",
        "\n",
        "# Prepare new DataFrame with required features\n",
        "df_model2 = df[['Timestamp', 'Occupancy', 'Capacity', 'QueueLength', 'TrafficScore', 'IsSpecialDay', 'VehicleWeight']]\n",
        "df_model2 = df_model2.rename(columns={\n",
        "    'TrafficScore': 'TrafficConditionNearby',\n",
        "    'VehicleWeight': 'VehicleType'\n",
        "})\n",
        "\n",
        "# Save it as CSV\n",
        "output_filename = \"parking_stream_model2.csv\"\n",
        "df_model2.to_csv(output_filename, index=False)\n",
        "\n",
        "# Trigger download in Colab\n",
        "files.download(output_filename)\n",
        "\n",
        "import pandas as pd\n",
        "from google.colab import files  # 👈 Import this to enable downloads\n",
        "\n",
        "# Load dataset (update path if needed)\n",
        "df = pd.read_csv(\"dataset.csv\")\n",
        "\n",
        "# Combine date and time columns\n",
        "df['Timestamp'] = pd.to_datetime(df['LastUpdatedDate'] + ' ' + df['LastUpdatedTime'], format=\"%d-%m-%Y %H:%M:%S\")\n",
        "\n",
        "# Feature mappings\n",
        "traffic_map = {\"low\": 1, \"medium\": 2, \"high\": 3}\n",
        "vehicle_weight_map = {\"bike\": 0.5, \"car\": 1.0, \"truck\": 1.5}\n",
        "\n",
        "df['TrafficScore'] = df['TrafficConditionNearby'].map(traffic_map).fillna(2)\n",
        "df['VehicleWeight'] = df['VehicleType'].map(vehicle_weight_map).fillna(1.0)\n",
        "\n",
        "# Prepare new DataFrame with required features\n",
        "df_model2 = df[['Timestamp', 'Occupancy', 'Capacity', 'QueueLength', 'TrafficScore', 'IsSpecialDay', 'VehicleWeight']]\n",
        "df_model2 = df_model2.rename(columns={\n",
        "    'TrafficScore': 'TrafficConditionNearby',\n",
        "    'VehicleWeight': 'VehicleType'\n",
        "})\n",
        "\n",
        "# Save it as CSV\n",
        "output_filename = \"parking_stream_model2.csv\"\n",
        "df_model2.to_csv(output_filename, index=False)\n",
        "\n",
        "# Trigger download in Colab\n",
        "files.download(output_filename)\n",
        "\n",
        "import pandas as pd\n",
        "from google.colab import files  # 👈 Import this to enable downloads\n",
        "\n",
        "# Load dataset (update path if needed)\n",
        "df = pd.read_csv(\"dataset.csv\")\n",
        "\n",
        "# Combine date and time columns\n",
        "df['Timestamp'] = pd.to_datetime(df['LastUpdatedDate'] + ' ' + df['LastUpdatedTime'], format=\"%d-%m-%Y %H:%M:%S\")\n",
        "\n",
        "# Feature mappings\n",
        "traffic_map = {\"low\": 1, \"medium\": 2, \"high\": 3}\n",
        "vehicle_weight_map = {\"bike\": 0.5, \"car\": 1.0, \"truck\": 1.5}\n",
        "\n",
        "df['TrafficScore'] = df['TrafficConditionNearby'].map(traffic_map).fillna(2)\n",
        "df['VehicleWeight'] = df['VehicleType'].map(vehicle_weight_map).fillna(1.0)\n",
        "\n",
        "# Prepare new DataFrame with required features\n",
        "df_model2 = df[['Timestamp', 'Occupancy', 'Capacity', 'QueueLength', 'TrafficScore', 'IsSpecialDay', 'VehicleWeight']]\n",
        "df_model2 = df_model2.rename(columns={\n",
        "    'TrafficScore': 'TrafficConditionNearby',\n",
        "    'VehicleWeight': 'VehicleType'\n",
        "})\n",
        "\n",
        "# Save it as CSV\n",
        "output_filename = \"parking_stream_model2.csv\"\n",
        "df_model2.to_csv(output_filename, index=False)\n",
        "\n",
        "# Trigger download in Colab\n",
        "files.download(output_filename)\n",
        "\n",
        "import pandas as pd\n",
        "from google.colab import files  # 👈 Import this to enable downloads\n",
        "\n",
        "# Load dataset (update path if needed)\n",
        "df = pd.read_csv(\"dataset.csv\")\n",
        "\n",
        "# Combine date and time columns\n",
        "df['Timestamp'] = pd.to_datetime(df['LastUpdatedDate'] + ' ' + df['LastUpdatedTime'], format=\"%d-%m-%Y %H:%M:%S\")\n",
        "\n",
        "# Feature mappings\n",
        "traffic_map = {\"low\": 1, \"medium\": 2, \"high\": 3}\n",
        "vehicle_weight_map = {\"bike\": 0.5, \"car\": 1.0, \"truck\": 1.5}\n",
        "\n",
        "df['TrafficScore'] = df['TrafficConditionNearby'].map(traffic_map).fillna(2)\n",
        "df['VehicleWeight'] = df['VehicleType'].map(vehicle_weight_map).fillna(1.0)\n",
        "\n",
        "# Prepare new DataFrame with required features\n",
        "df_model2 = df[['Timestamp', 'Occupancy', 'Capacity', 'QueueLength', 'TrafficScore', 'IsSpecialDay', 'VehicleWeight']]\n",
        "df_model2 = df_model2.rename(columns={\n",
        "    'TrafficScore': 'TrafficConditionNearby',\n",
        "    'VehicleWeight': 'VehicleType'\n",
        "})\n",
        "\n",
        "# Save it as CSV\n",
        "output_filename = \"parking_stream_model2.csv\"\n",
        "df_model2.to_csv(output_filename, index=False)\n",
        "\n",
        "# Trigger download in Colab\n",
        "files.download(output_filename)\n",
        "\n"
      ]
    },
    {
      "cell_type": "code",
      "source": [],
      "metadata": {
        "id": "-VxWMIkmXJ67"
      },
      "execution_count": null,
      "outputs": []
    }
  ]
}